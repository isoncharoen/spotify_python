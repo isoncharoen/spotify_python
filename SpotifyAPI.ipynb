{
 "cells": [
  {
   "cell_type": "code",
   "execution_count": null,
   "metadata": {},
   "outputs": [
    {
     "name": "stdout",
     "output_type": "stream",
     "text": [
      "Collecting spotipy\n",
      "  Downloading spotipy-2.25.1-py3-none-any.whl.metadata (5.1 kB)\n",
      "Collecting redis>=3.5.3 (from spotipy)\n",
      "  Downloading redis-5.2.1-py3-none-any.whl.metadata (9.1 kB)\n",
      "Requirement already satisfied: requests>=2.25.0 in /opt/anaconda3/lib/python3.12/site-packages (from spotipy) (2.32.3)\n",
      "Requirement already satisfied: urllib3>=1.26.0 in /opt/anaconda3/lib/python3.12/site-packages (from spotipy) (2.2.3)\n",
      "Requirement already satisfied: charset-normalizer<4,>=2 in /opt/anaconda3/lib/python3.12/site-packages (from requests>=2.25.0->spotipy) (3.3.2)\n",
      "Requirement already satisfied: idna<4,>=2.5 in /opt/anaconda3/lib/python3.12/site-packages (from requests>=2.25.0->spotipy) (3.7)\n",
      "Requirement already satisfied: certifi>=2017.4.17 in /opt/anaconda3/lib/python3.12/site-packages (from requests>=2.25.0->spotipy) (2024.8.30)\n",
      "Downloading spotipy-2.25.1-py3-none-any.whl (31 kB)\n",
      "Downloading redis-5.2.1-py3-none-any.whl (261 kB)\n",
      "Installing collected packages: redis, spotipy\n",
      "Successfully installed redis-5.2.1 spotipy-2.25.1\n",
      "Note: you may need to restart the kernel to use updated packages.\n"
     ]
    }
   ],
   "source": [
    "#!pip install spotipy"
   ]
  },
  {
   "cell_type": "markdown",
   "metadata": {},
   "source": [
    "### An attempt at Spotify API"
   ]
  },
  {
   "cell_type": "code",
   "execution_count": null,
   "metadata": {},
   "outputs": [
    {
     "name": "stdout",
     "output_type": "stream",
     "text": [
      "Getting info: 1960...\n",
      "Getting info: 1961...\n",
      "Getting info: 1962...\n",
      "Getting info: 1963...\n",
      "Getting info: 1964...\n",
      "Getting info: 1965...\n",
      "Getting info: 1966...\n",
      "Getting info: 1967...\n",
      "Getting info: 1968...\n",
      "Getting info: 1969...\n",
      "Getting info: 1970...\n",
      "Getting info: 1971...\n",
      "Getting info: 1972...\n",
      "Getting info: 1973...\n",
      "Getting info: 1974...\n",
      "Getting info: 1975...\n",
      "Getting info: 1976...\n",
      "Getting info: 1977...\n",
      "Getting info: 1978...\n",
      "Getting info: 1979...\n",
      "Getting info: 1980...\n",
      "Getting info: 1981...\n",
      "Getting info: 1982...\n",
      "Getting info: 1983...\n",
      "Getting info: 1984...\n",
      "Getting info: 1985...\n",
      "Getting info: 1986...\n",
      "Getting info: 1987...\n",
      "Getting info: 1988...\n",
      "Getting info: 1989...\n",
      "Getting info: 1990...\n",
      "CSV file 'top_tracks_1960_1990.csv' has been created!\n"
     ]
    }
   ],
   "source": [
    "import spotipy\n",
    "from spotipy.oauth2 import SpotifyClientCredentials\n",
    "import csv\n",
    "\n",
    "CLIENT_ID = #sorry, i need to comment this out since it's my own client id from the developer / api site\n",
    "CLIENT_SECRET = #again, can't be shared!\n",
    "\n",
    "client_credentials_manager = SpotifyClientCredentials(client_id=CLIENT_ID, client_secret=CLIENT_SECRET)\n",
    "sp = spotipy.Spotify(client_credentials_manager=client_credentials_manager)\n",
    "\n",
    "def get_top_tracks(start_year, end_year, limit=50):\n",
    "    tracks = [] #initialize to store tracks, etc.\n",
    "    \n",
    "    for year in range(start_year, end_year + 1):\n",
    "        print(f\"Getting info: {year}...\")\n",
    "        result = sp.search(q=f\"year:{year}\", type=\"track\", limit=limit)\n",
    "        \n",
    "        for track in result[\"tracks\"][\"items\"]:\n",
    "            track_info = {\n",
    "                \"name\": track[\"name\"],\n",
    "                \"artist\": track[\"artists\"][0][\"name\"],\n",
    "                \"album\": track[\"album\"][\"name\"],\n",
    "                \"year\": year,\n",
    "                \"popularity\": track[\"popularity\"],\n",
    "                \"url\": track[\"external_urls\"][\"spotify\"]\n",
    "            }\n",
    "            tracks.append(track_info)\n",
    "    \n",
    "    return tracks\n",
    "\n",
    "def write_to_csv(tracks, filename=\"/Users/inqsoncharoen/Documents/RStudio Module/top_tracks_1960_1990.csv\"):\n",
    "    headers = [\"name\", \"artist\", \"album\", \"year\", \"popularity\", \"url\"]\n",
    "    \n",
    "    with open(filename, mode=\"w\", newline=\"\", encoding=\"utf-8\") as file:\n",
    "        writer = csv.DictWriter(file, fieldnames=headers)\n",
    "        writer.writeheader()\n",
    "        writer.writerows(tracks)\n",
    "\n",
    "top_tracks = get_top_tracks(1960, 1990)\n",
    "\n",
    "write_to_csv(top_tracks)\n",
    "\n",
    "print(f\"CSV file \"top_tracks_1960_1990.csv\" has been created!\")\n"
   ]
  },
  {
   "cell_type": "code",
   "execution_count": null,
   "metadata": {},
   "outputs": [
    {
     "name": "stdout",
     "output_type": "stream",
     "text": [
      "                                                   name               artist  \\\n",
      "0                                               At Last           Etta James   \n",
      "1     By Myself - Live On The Ed Sullivan Show, Febr...          Bobby Darin   \n",
      "2                       (What A) Wonderful World - Mono            Sam Cooke   \n",
      "3     Kids - Live On The Ed Sullivan Show, October 2...  The McGuire Sisters   \n",
      "4                                 A Sunday Kind Of Love           Etta James   \n",
      "...                                                 ...                  ...   \n",
      "1545  Wenn der Tag erwacht (ZDF Volkstümliche Hitpar...        Edward Simoni   \n",
      "1546                                     Man in the Box      Alice In Chains   \n",
      "1547  Sonnenschein im Blut (ZDF-Fernsehgarten 11.08....        G.G. Anderson   \n",
      "1548                             The Power (7\" Version)                SNAP!   \n",
      "1549                                  Domination - Live              Pantera   \n",
      "\n",
      "                                 album  year  popularity  \\\n",
      "0                             At Last!  1960          72   \n",
      "1                                  NaN  1960           0   \n",
      "2     The Wonderful World Of Sam Cooke  1960          66   \n",
      "3                                  NaN  1960           0   \n",
      "4                             At Last!  1960          67   \n",
      "...                                ...   ...         ...   \n",
      "1545                               NaN  1990           0   \n",
      "1546                          Facelift  1990          73   \n",
      "1547                               NaN  1990           0   \n",
      "1548                         The Power  1990          60   \n",
      "1549                               NaN  1990           0   \n",
      "\n",
      "                                                    url  \n",
      "0     https://open.spotify.com/track/4Hhv2vrOTy89HFR...  \n",
      "1     https://open.spotify.com/track/0bUrrGrBfHGTsj1...  \n",
      "2     https://open.spotify.com/track/2G0GextMwZJLkNx...  \n",
      "3     https://open.spotify.com/track/6wXfdFcJWmLfHXW...  \n",
      "4     https://open.spotify.com/track/0zGLlXbHlrAyBN1...  \n",
      "...                                                 ...  \n",
      "1545  https://open.spotify.com/track/2tJlP2ZuJf8UGOP...  \n",
      "1546  https://open.spotify.com/track/6gZVQvQZOFpzIy3...  \n",
      "1547  https://open.spotify.com/track/4I1FlFXY8yeyGzU...  \n",
      "1548  https://open.spotify.com/track/0gRhXiFgrIz8OfS...  \n",
      "1549  https://open.spotify.com/track/7fq3OUyVYYsiBGu...  \n",
      "\n",
      "[1550 rows x 6 columns]\n"
     ]
    }
   ],
   "source": [
    "import pandas as pd\n",
    "\n",
    "filename = \"/Users/inqsoncharoen/Documents/RStudio Module/top_tracks_1960_1990.csv\"\n",
    "df = pd.read_csv(filename)\n",
    "\n",
    "print(df)\n"
   ]
  },
  {
   "cell_type": "code",
   "execution_count": null,
   "metadata": {},
   "outputs": [
    {
     "name": "stderr",
     "output_type": "stream",
     "text": [
      "HTTP Error for GET to https://api.spotify.com/v1/playlists/37i9dQZEVXbMDoHDwVN2tF/tracks with Params: {'limit': 50, 'offset': 0, 'fields': None, 'market': None, 'additional_types': 'track'} returned 404 due to Resource not found\n"
     ]
    },
    {
     "ename": "SpotifyException",
     "evalue": "http status: 404, code: -1 - https://api.spotify.com/v1/playlists/37i9dQZEVXbMDoHDwVN2tF/tracks?limit=50&offset=0&additional_types=track:\n Resource not found, reason: None",
     "output_type": "error",
     "traceback": [
      "\u001b[0;31m---------------------------------------------------------------------------\u001b[0m",
      "\u001b[0;31mHTTPError\u001b[0m                                 Traceback (most recent call last)",
      "File \u001b[0;32m/opt/anaconda3/lib/python3.12/site-packages/spotipy/client.py:274\u001b[0m, in \u001b[0;36mSpotify._internal_call\u001b[0;34m(self, method, url, payload, params)\u001b[0m\n\u001b[1;32m    269\u001b[0m response \u001b[38;5;241m=\u001b[39m \u001b[38;5;28mself\u001b[39m\u001b[38;5;241m.\u001b[39m_session\u001b[38;5;241m.\u001b[39mrequest(\n\u001b[1;32m    270\u001b[0m     method, url, headers\u001b[38;5;241m=\u001b[39mheaders, proxies\u001b[38;5;241m=\u001b[39m\u001b[38;5;28mself\u001b[39m\u001b[38;5;241m.\u001b[39mproxies,\n\u001b[1;32m    271\u001b[0m     timeout\u001b[38;5;241m=\u001b[39m\u001b[38;5;28mself\u001b[39m\u001b[38;5;241m.\u001b[39mrequests_timeout, \u001b[38;5;241m*\u001b[39m\u001b[38;5;241m*\u001b[39margs\n\u001b[1;32m    272\u001b[0m )\n\u001b[0;32m--> 274\u001b[0m response\u001b[38;5;241m.\u001b[39mraise_for_status()\n\u001b[1;32m    275\u001b[0m results \u001b[38;5;241m=\u001b[39m response\u001b[38;5;241m.\u001b[39mjson()\n",
      "File \u001b[0;32m/opt/anaconda3/lib/python3.12/site-packages/requests/models.py:1024\u001b[0m, in \u001b[0;36mResponse.raise_for_status\u001b[0;34m(self)\u001b[0m\n\u001b[1;32m   1023\u001b[0m \u001b[38;5;28;01mif\u001b[39;00m http_error_msg:\n\u001b[0;32m-> 1024\u001b[0m     \u001b[38;5;28;01mraise\u001b[39;00m HTTPError(http_error_msg, response\u001b[38;5;241m=\u001b[39m\u001b[38;5;28mself\u001b[39m)\n",
      "\u001b[0;31mHTTPError\u001b[0m: 404 Client Error: Not Found for url: https://api.spotify.com/v1/playlists/37i9dQZEVXbMDoHDwVN2tF/tracks?limit=50&offset=0&additional_types=track",
      "\nDuring handling of the above exception, another exception occurred:\n",
      "\u001b[0;31mSpotifyException\u001b[0m                          Traceback (most recent call last)",
      "Cell \u001b[0;32mIn[7], line 32\u001b[0m\n\u001b[1;32m     29\u001b[0m         writer\u001b[38;5;241m.\u001b[39mwriterows(tracks)\n\u001b[1;32m     31\u001b[0m \u001b[38;5;66;03m# Fetch the Top 50 tracks (current global playlist)\u001b[39;00m\n\u001b[0;32m---> 32\u001b[0m top_tracks \u001b[38;5;241m=\u001b[39m get_top_50_tracks()\n\u001b[1;32m     34\u001b[0m \u001b[38;5;66;03m# Write the data to a CSV file\u001b[39;00m\n\u001b[1;32m     35\u001b[0m write_to_csv(top_tracks)\n",
      "Cell \u001b[0;32mIn[7], line 4\u001b[0m, in \u001b[0;36mget_top_50_tracks\u001b[0;34m(playlist_id)\u001b[0m\n\u001b[1;32m      2\u001b[0m \u001b[38;5;28;01mdef\u001b[39;00m \u001b[38;5;21mget_top_50_tracks\u001b[39m(playlist_id\u001b[38;5;241m=\u001b[39m\u001b[38;5;124m'\u001b[39m\u001b[38;5;124m37i9dQZEVXbMDoHDwVN2tF\u001b[39m\u001b[38;5;124m'\u001b[39m):  \u001b[38;5;66;03m# Top 50 Global playlist ID\u001b[39;00m\n\u001b[1;32m      3\u001b[0m     \u001b[38;5;66;03m# Get the playlist tracks\u001b[39;00m\n\u001b[0;32m----> 4\u001b[0m     playlist \u001b[38;5;241m=\u001b[39m sp\u001b[38;5;241m.\u001b[39mplaylist_tracks(playlist_id, limit\u001b[38;5;241m=\u001b[39m\u001b[38;5;241m50\u001b[39m)  \u001b[38;5;66;03m# Limit to 50 tracks\u001b[39;00m\n\u001b[1;32m      6\u001b[0m     tracks \u001b[38;5;241m=\u001b[39m []\n\u001b[1;32m      8\u001b[0m     \u001b[38;5;28;01mfor\u001b[39;00m item \u001b[38;5;129;01min\u001b[39;00m playlist[\u001b[38;5;124m'\u001b[39m\u001b[38;5;124mitems\u001b[39m\u001b[38;5;124m'\u001b[39m]:\n",
      "File \u001b[0;32m/opt/anaconda3/lib/python3.12/site-packages/spotipy/client.py:700\u001b[0m, in \u001b[0;36mSpotify.playlist_tracks\u001b[0;34m(self, playlist_id, fields, limit, offset, market, additional_types)\u001b[0m\n\u001b[1;32m    684\u001b[0m \u001b[38;5;250m\u001b[39m\u001b[38;5;124;03m\"\"\" Get full details of the tracks of a playlist.\u001b[39;00m\n\u001b[1;32m    685\u001b[0m \n\u001b[1;32m    686\u001b[0m \u001b[38;5;124;03m    Parameters:\u001b[39;00m\n\u001b[0;32m   (...)\u001b[0m\n\u001b[1;32m    693\u001b[0m \u001b[38;5;124;03m                             valid types are: track and episode\u001b[39;00m\n\u001b[1;32m    694\u001b[0m \u001b[38;5;124;03m\"\"\"\u001b[39;00m\n\u001b[1;32m    695\u001b[0m warnings\u001b[38;5;241m.\u001b[39mwarn(\n\u001b[1;32m    696\u001b[0m     \u001b[38;5;124m\"\u001b[39m\u001b[38;5;124mYou should use `playlist_items(playlist_id, ...,\u001b[39m\u001b[38;5;124m\"\u001b[39m\n\u001b[1;32m    697\u001b[0m     \u001b[38;5;124m\"\u001b[39m\u001b[38;5;124madditional_types=(\u001b[39m\u001b[38;5;124m'\u001b[39m\u001b[38;5;124mtrack\u001b[39m\u001b[38;5;124m'\u001b[39m\u001b[38;5;124m,))` instead\u001b[39m\u001b[38;5;124m\"\u001b[39m,\n\u001b[1;32m    698\u001b[0m     \u001b[38;5;167;01mDeprecationWarning\u001b[39;00m,\n\u001b[1;32m    699\u001b[0m )\n\u001b[0;32m--> 700\u001b[0m \u001b[38;5;28;01mreturn\u001b[39;00m \u001b[38;5;28mself\u001b[39m\u001b[38;5;241m.\u001b[39mplaylist_items(playlist_id, fields, limit, offset,\n\u001b[1;32m    701\u001b[0m                            market, additional_types)\n",
      "File \u001b[0;32m/opt/anaconda3/lib/python3.12/site-packages/spotipy/client.py:724\u001b[0m, in \u001b[0;36mSpotify.playlist_items\u001b[0;34m(self, playlist_id, fields, limit, offset, market, additional_types)\u001b[0m\n\u001b[1;32m    712\u001b[0m \u001b[38;5;250m\u001b[39m\u001b[38;5;124;03m\"\"\" Get full details of the tracks and episodes of a playlist.\u001b[39;00m\n\u001b[1;32m    713\u001b[0m \n\u001b[1;32m    714\u001b[0m \u001b[38;5;124;03m    Parameters:\u001b[39;00m\n\u001b[0;32m   (...)\u001b[0m\n\u001b[1;32m    721\u001b[0m \u001b[38;5;124;03m                             valid types are: track and episode\u001b[39;00m\n\u001b[1;32m    722\u001b[0m \u001b[38;5;124;03m\"\"\"\u001b[39;00m\n\u001b[1;32m    723\u001b[0m plid \u001b[38;5;241m=\u001b[39m \u001b[38;5;28mself\u001b[39m\u001b[38;5;241m.\u001b[39m_get_id(\u001b[38;5;124m\"\u001b[39m\u001b[38;5;124mplaylist\u001b[39m\u001b[38;5;124m\"\u001b[39m, playlist_id)\n\u001b[0;32m--> 724\u001b[0m \u001b[38;5;28;01mreturn\u001b[39;00m \u001b[38;5;28mself\u001b[39m\u001b[38;5;241m.\u001b[39m_get(\n\u001b[1;32m    725\u001b[0m     \u001b[38;5;124mf\u001b[39m\u001b[38;5;124m\"\u001b[39m\u001b[38;5;124mplaylists/\u001b[39m\u001b[38;5;132;01m{\u001b[39;00mplid\u001b[38;5;132;01m}\u001b[39;00m\u001b[38;5;124m/tracks\u001b[39m\u001b[38;5;124m\"\u001b[39m,\n\u001b[1;32m    726\u001b[0m     limit\u001b[38;5;241m=\u001b[39mlimit,\n\u001b[1;32m    727\u001b[0m     offset\u001b[38;5;241m=\u001b[39moffset,\n\u001b[1;32m    728\u001b[0m     fields\u001b[38;5;241m=\u001b[39mfields,\n\u001b[1;32m    729\u001b[0m     market\u001b[38;5;241m=\u001b[39mmarket,\n\u001b[1;32m    730\u001b[0m     additional_types\u001b[38;5;241m=\u001b[39m\u001b[38;5;124m\"\u001b[39m\u001b[38;5;124m,\u001b[39m\u001b[38;5;124m\"\u001b[39m\u001b[38;5;241m.\u001b[39mjoin(additional_types)\n\u001b[1;32m    731\u001b[0m )\n",
      "File \u001b[0;32m/opt/anaconda3/lib/python3.12/site-packages/spotipy/client.py:324\u001b[0m, in \u001b[0;36mSpotify._get\u001b[0;34m(self, url, args, payload, **kwargs)\u001b[0m\n\u001b[1;32m    321\u001b[0m \u001b[38;5;28;01mif\u001b[39;00m args:\n\u001b[1;32m    322\u001b[0m     kwargs\u001b[38;5;241m.\u001b[39mupdate(args)\n\u001b[0;32m--> 324\u001b[0m \u001b[38;5;28;01mreturn\u001b[39;00m \u001b[38;5;28mself\u001b[39m\u001b[38;5;241m.\u001b[39m_internal_call(\u001b[38;5;124m\"\u001b[39m\u001b[38;5;124mGET\u001b[39m\u001b[38;5;124m\"\u001b[39m, url, payload, kwargs)\n",
      "File \u001b[0;32m/opt/anaconda3/lib/python3.12/site-packages/spotipy/client.py:294\u001b[0m, in \u001b[0;36mSpotify._internal_call\u001b[0;34m(self, method, url, payload, params)\u001b[0m\n\u001b[1;32m    289\u001b[0m         reason \u001b[38;5;241m=\u001b[39m \u001b[38;5;28;01mNone\u001b[39;00m\n\u001b[1;32m    291\u001b[0m     logger\u001b[38;5;241m.\u001b[39merror(\u001b[38;5;124mf\u001b[39m\u001b[38;5;124m\"\u001b[39m\u001b[38;5;124mHTTP Error for \u001b[39m\u001b[38;5;132;01m{\u001b[39;00mmethod\u001b[38;5;132;01m}\u001b[39;00m\u001b[38;5;124m to \u001b[39m\u001b[38;5;132;01m{\u001b[39;00murl\u001b[38;5;132;01m}\u001b[39;00m\u001b[38;5;124m with Params: \u001b[39m\u001b[38;5;124m\"\u001b[39m\n\u001b[1;32m    292\u001b[0m                  \u001b[38;5;124mf\u001b[39m\u001b[38;5;124m\"\u001b[39m\u001b[38;5;132;01m{\u001b[39;00margs\u001b[38;5;241m.\u001b[39mget(\u001b[38;5;124m'\u001b[39m\u001b[38;5;124mparams\u001b[39m\u001b[38;5;124m'\u001b[39m)\u001b[38;5;132;01m}\u001b[39;00m\u001b[38;5;124m returned \u001b[39m\u001b[38;5;132;01m{\u001b[39;00mresponse\u001b[38;5;241m.\u001b[39mstatus_code\u001b[38;5;132;01m}\u001b[39;00m\u001b[38;5;124m due to \u001b[39m\u001b[38;5;132;01m{\u001b[39;00mmsg\u001b[38;5;132;01m}\u001b[39;00m\u001b[38;5;124m\"\u001b[39m)\n\u001b[0;32m--> 294\u001b[0m     \u001b[38;5;28;01mraise\u001b[39;00m SpotifyException(\n\u001b[1;32m    295\u001b[0m         response\u001b[38;5;241m.\u001b[39mstatus_code,\n\u001b[1;32m    296\u001b[0m         \u001b[38;5;241m-\u001b[39m\u001b[38;5;241m1\u001b[39m,\n\u001b[1;32m    297\u001b[0m         \u001b[38;5;124mf\u001b[39m\u001b[38;5;124m\"\u001b[39m\u001b[38;5;132;01m{\u001b[39;00mresponse\u001b[38;5;241m.\u001b[39murl\u001b[38;5;132;01m}\u001b[39;00m\u001b[38;5;124m:\u001b[39m\u001b[38;5;130;01m\\n\u001b[39;00m\u001b[38;5;124m \u001b[39m\u001b[38;5;132;01m{\u001b[39;00mmsg\u001b[38;5;132;01m}\u001b[39;00m\u001b[38;5;124m\"\u001b[39m,\n\u001b[1;32m    298\u001b[0m         reason\u001b[38;5;241m=\u001b[39mreason,\n\u001b[1;32m    299\u001b[0m         headers\u001b[38;5;241m=\u001b[39mresponse\u001b[38;5;241m.\u001b[39mheaders,\n\u001b[1;32m    300\u001b[0m     )\n\u001b[1;32m    301\u001b[0m \u001b[38;5;28;01mexcept\u001b[39;00m requests\u001b[38;5;241m.\u001b[39mexceptions\u001b[38;5;241m.\u001b[39mRetryError \u001b[38;5;28;01mas\u001b[39;00m retry_error:\n\u001b[1;32m    302\u001b[0m     request \u001b[38;5;241m=\u001b[39m retry_error\u001b[38;5;241m.\u001b[39mrequest\n",
      "\u001b[0;31mSpotifyException\u001b[0m: http status: 404, code: -1 - https://api.spotify.com/v1/playlists/37i9dQZEVXbMDoHDwVN2tF/tracks?limit=50&offset=0&additional_types=track:\n Resource not found, reason: None"
     ]
    }
   ],
   "source": [
    "#ABANDON SHIP!!!\n",
    "def get_top_50_tracks(playlist_id=\"37i9dQZEVXbMDoHDwVN2tF\"):\n",
    "    playlist = sp.playlist_tracks(playlist_id, limit=50)\n",
    "    \n",
    "    tracks = []\n",
    "    \n",
    "\n",
    "    for item in playlist['items']:\n",
    "        track = item['track']\n",
    "        track_info = {\n",
    "            'name': track['name'],\n",
    "            'artist': track['artists'][0]['name'],\n",
    "            'album': track['album']['name'],\n",
    "            'year': track['album']['release_date'][:4],\n",
    "            'popularity': track['popularity'],\n",
    "            'url': track['external_urls']['spotify']\n",
    "        }\n",
    "        tracks.append(track_info)\n",
    "    \n",
    "    return tracks\n",
    "\n",
    "def write_to_csv(tracks, filename='top_50_tracks.csv'):\n",
    "    headers = ['name', 'artist', 'album', 'year', 'popularity', 'url']\n",
    "    \n",
    "    with open(filename, mode='w', newline='', encoding='utf-8') as file:\n",
    "        writer = csv.DictWriter(file, fieldnames=headers)\n",
    "        writer.writeheader()\n",
    "        writer.writerows(tracks)\n",
    "\n",
    "top_tracks = get_top_50_tracks()\n",
    "\n",
    "write_to_csv(top_tracks)\n",
    "\n",
    "print(f\"CSV file 'top_50_tracks.csv' has been created!\")\n"
   ]
  },
  {
   "cell_type": "code",
   "execution_count": null,
   "metadata": {},
   "outputs": [],
   "source": []
  }
 ],
 "metadata": {
  "kernelspec": {
   "display_name": "base",
   "language": "python",
   "name": "python3"
  },
  "language_info": {
   "codemirror_mode": {
    "name": "ipython",
    "version": 3
   },
   "file_extension": ".py",
   "mimetype": "text/x-python",
   "name": "python",
   "nbconvert_exporter": "python",
   "pygments_lexer": "ipython3",
   "version": "3.12.7"
  }
 },
 "nbformat": 4,
 "nbformat_minor": 2
}
